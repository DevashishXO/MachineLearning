{
 "cells": [
  {
   "cell_type": "markdown",
   "id": "9ff97dd2-16ae-4ead-97d9-e2a0021d43b6",
   "metadata": {},
   "source": [
    " 1) How many multiplications and additions do you need to perform a matrix multiplication between a (n, k) and (k, m) matrix? Explain."
   ]
  },
  {
   "cell_type": "markdown",
   "id": "82b1a68b-baf2-43d8-aa0c-de2cd21df84b",
   "metadata": {},
   "source": [
    "Ans: The resultant matrix will be of the size (n,m). The multiplication is performed by multiplying elements from the corresponding row of first matrix and column of second matrix, and       then finally summing these products.\n",
    "     The number of multiplications performed would be (n*m*k) while the number of additions would be (n*m*(k-1))."
   ]
  },
  {
   "cell_type": "markdown",
   "id": "e164200b-0453-4502-9a92-66745d4a6b75",
   "metadata": {},
   "source": [
    "2) Write Python code to multiply the above two matrices. Solve using list of lists and then use numpy. Compare the timing of both solutions. Which one is faster? Why?"
   ]
  },
  {
   "cell_type": "code",
   "execution_count": 4,
   "id": "865390bc-653a-47bd-9e02-33a9ea17a751",
   "metadata": {},
   "outputs": [
    {
     "name": "stdout",
     "output_type": "stream",
     "text": [
      "The answer of matrix multiplication of the given matrices is: \n",
      "[58, 64]\n",
      "[139, 154]\n",
      "the runtime of nested list method is: \n",
      "7.41 µs ± 1.03 µs per loop (mean ± std. dev. of 7 runs, 100,000 loops each)\n"
     ]
    }
   ],
   "source": [
    "# Solution\n",
    "\n",
    "# USING NESTED LISTS\n",
    "import timeit\n",
    "def matrix_mul(a,b):\n",
    "    n = len(a)\n",
    "    k = len(b)\n",
    "    m = len(b[0])\n",
    "    res = [[0]* m for i in range(n)]\n",
    "    for x in range(n):\n",
    "        for y in range(m):\n",
    "            for z in range(k):\n",
    "                res[x][y] += a[x][z] * b[z][y]\n",
    "    return res\n",
    "\n",
    "matrix_a = [[1,2,3],[4,5,6]]\n",
    "matrix_b = [[7,8],[9,10],[11,12]]\n",
    "ans = matrix_mul(matrix_a,matrix_b)\n",
    "\n",
    "print(\"The answer of matrix multiplication of the given matrices is: \")\n",
    "for row in ans:\n",
    "    print(row)\n",
    "\n",
    "print(\"the runtime of nested list method is: \")\n",
    "%timeit matrix_mul(matrix_a,matrix_b)"
   ]
  },
  {
   "cell_type": "code",
   "execution_count": 5,
   "id": "ad9ac0bb-3a8b-4bec-8c13-cee96b8890a2",
   "metadata": {},
   "outputs": [
    {
     "name": "stdout",
     "output_type": "stream",
     "text": [
      "\n",
      "the answer of matrix multiplication using numpy is: \n",
      "[[ 58  64]\n",
      " [139 154]]\n",
      "the runtime of the numpy method is: \n",
      "2.2 µs ± 380 ns per loop (mean ± std. dev. of 7 runs, 100,000 loops each)\n"
     ]
    }
   ],
   "source": [
    "# USING NUMPY\n",
    "\n",
    "import numpy as np\n",
    "\n",
    "matrix_a = np.array([[1,2,3],[4,5,6]])\n",
    "matrix_b = np.array([[7,8],[9,10],[11,12]])\n",
    "\n",
    "res_np = np.dot(matrix_a,matrix_b)\n",
    "print(\"\\nthe answer of matrix multiplication using numpy is: \")\n",
    "print(res_np)\n",
    "print(\"the runtime of the numpy method is: \")\n",
    "%timeit np.dot(matrix_a,matrix_b)"
   ]
  },
  {
   "cell_type": "markdown",
   "id": "ed16c9a0-582b-474a-9527-45bf6668d7d5",
   "metadata": {},
   "source": [
    "The numpy solution is faster than the nested lists method because numpy library is implemented in C language, making its implementation faster.\n",
    "This is  verified by using the 'timeit' module of python to compare the runtime of both methods."
   ]
  },
  {
   "cell_type": "markdown",
   "id": "943b3623-b33d-4228-8c3e-1f8ecde11e50",
   "metadata": {},
   "source": [
    "3) Finding the highest element in a list requires one pass of the array. Finding the second highest element requires 2 passes of the the array. Using this method, what is the time complexity of finding the median of the array? Can you suggest a better method? Can you implement both these methods in Python and compare against numpy.median routine in terms of time?"
   ]
  },
  {
   "cell_type": "markdown",
   "metadata": {},
   "source": [
    "ANS: When we use the given method, our loop is executed about n/2 times and the array is iterated entirely. Therefore the overall time complexity thus becomes the sum of (1+2+3...n/2), due to which  the time complexity comes out to be O(n^2)."
   ]
  },
  {
   "cell_type": "code",
   "execution_count": 14,
   "metadata": {},
   "outputs": [
    {
     "name": "stdout",
     "output_type": "stream",
     "text": [
      "5\n"
     ]
    }
   ],
   "source": [
    "## SLOWER METHOD\n",
    "\n",
    "def find_median_slow(arr):\n",
    "    max = arr[0]\n",
    "    second_max = arr[1]\n",
    "\n",
    "    for num in arr:\n",
    "        if num > max:\n",
    "            second_max = max\n",
    "            max = num\n",
    "        elif num > second_max:\n",
    "            second_max = num\n",
    "\n",
    "    return second_max"
   ]
  },
  {
   "cell_type": "code",
   "execution_count": 16,
   "metadata": {},
   "outputs": [],
   "source": [
    "## Faster Method\n",
    "\n",
    "def find_median_fast(arr):\n",
    "    sorted_array = sorted(arr)\n",
    "    n = len(arr)\n",
    "    mid = n//2\n",
    "    if (n%2) == 0:\n",
    "        return(sorted_array[mid-1] + sorted_array[mid])/2\n",
    "    else:\n",
    "        return sorted_array[mid]"
   ]
  },
  {
   "cell_type": "markdown",
   "metadata": {},
   "source": [
    "COMPARING RUNTIMES OF THREE METHODS: GIVEN APPROACH, SORTED APPROACH AND NUMPY LIBRARY "
   ]
  },
  {
   "cell_type": "code",
   "execution_count": 18,
   "metadata": {},
   "outputs": [
    {
     "name": "stdout",
     "output_type": "stream",
     "text": [
      "2.88 µs ± 19.5 ns per loop (mean ± std. dev. of 7 runs, 100,000 loops each)\n",
      "383 ns ± 16.4 ns per loop (mean ± std. dev. of 7 runs, 1,000,000 loops each)\n",
      "19 µs ± 190 ns per loop (mean ± std. dev. of 7 runs, 100,000 loops each)\n"
     ]
    }
   ],
   "source": [
    "import numpy as np\n",
    "arr = [1,5,2,7,4,8,6]\n",
    "%timeit find_median_slow(arr)\n",
    "%timeit find_median_fast(arr)\n",
    "%timeit np.median(arr)\n",
    "\n",
    "## THE NUMPY METHOD TURNS OUT TO BE THE FASTEST"
   ]
  },
  {
   "cell_type": "markdown",
   "id": "f5c4b9d6-f086-49af-8f1a-4f4904efda18",
   "metadata": {},
   "source": [
    "4) What is the gradient of the following function with respect to x and y?\n",
    " $x^2y +y^3sin(x)$"
   ]
  },
  {
   "cell_type": "markdown",
   "id": "d1107458-a178-4545-b876-2780155a657d",
   "metadata": {},
   "source": [
    "  ANS: Gradient with respect to x =>  $2xy + y^3  \\cos(x)$ \n",
    "     and Gradient with respect to y => $x^2 + 3y^2 \\sin(x)$"
   ]
  },
  {
   "cell_type": "markdown",
   "id": "09acf3e0-0d0e-4a5c-9a0c-66718f2fabe8",
   "metadata": {},
   "source": [
    "5) Use JAX to confirm the gradient evaluated by your method matches the analytical solution corresponding to a few random values of x and y"
   ]
  },
  {
   "cell_type": "code",
   "execution_count": 20,
   "metadata": {},
   "outputs": [
    {
     "name": "stdout",
     "output_type": "stream",
     "text": [
      "Analytical Gradient: (Array(0.7640352, dtype=float32, weak_type=True), Array(28.55103, dtype=float32, weak_type=True))\n",
      "JAX Gradient: (Array(0.7640352, dtype=float32, weak_type=True), Array(28.55103, dtype=float32, weak_type=True))\n"
     ]
    }
   ],
   "source": [
    "import jax\n",
    "def func(x, y):\n",
    "    return x**2 * y + y**3 * jax.numpy.sin(x)\n",
    "\n",
    "def analytical_gradient(x, y):\n",
    "    df_dx = 2 * x * y + y**3 * jax.numpy.cos(x)\n",
    "    df_dy = x**2 + 3 * y**2 * jax.numpy.sin(x)\n",
    "    return df_dx, df_dy\n",
    "\n",
    "gradient_jax = jax.grad(func, (0, 1))\n",
    "\n",
    "x = 2.0\n",
    "y = 3.0\n",
    "\n",
    "analytical_grad = analytical_gradient(x, y)\n",
    "jax_grad = gradient_jax(x, y)\n",
    "\n",
    "print(\"Analytical Gradient:\", analytical_grad)\n",
    "print(\"JAX Gradient:\", jax_grad)"
   ]
  },
  {
   "cell_type": "markdown",
   "id": "ff353751-d2a4-431d-a9e7-8352e3c782a5",
   "metadata": {},
   "source": [
    "6) Use sympy to confirm that you obtain the same gradient analytically."
   ]
  },
  {
   "cell_type": "code",
   "execution_count": 22,
   "metadata": {},
   "outputs": [
    {
     "name": "stdout",
     "output_type": "stream",
     "text": [
      "Analytical Gradient with respect to x: 2*x*y + y**3*cos(x)\n",
      "Analytical Gradient with respect to y: x**2 + 3*y**2*sin(x)\n"
     ]
    }
   ],
   "source": [
    "from sympy import symbols, diff, sin\n",
    "x, y = symbols('x y')\n",
    "q = x**2 * y + y**3 * sin(x)\n",
    "df_dx = diff(q, x)\n",
    "df_dy = diff(q, y)\n",
    "print(\"Analytical Gradient with respect to x:\", df_dx)\n",
    "print(\"Analytical Gradient with respect to y:\", df_dy)"
   ]
  },
  {
   "cell_type": "markdown",
   "metadata": {},
   "source": [
    "#### Q7.Create a Python nested dictionary to represent hierarchical information. We want to store record of students and their marks. Something like:\n",
    "1. 2022\n",
    "    1.Branch 1\n",
    "        1.Roll Number: 1, Name: N, Marks:\n",
    "            1. Maths: 100, English: 70 …\n",
    "    2.Branch 2\n",
    "2. 2023\n",
    "    1.Branch 1\n",
    "    2.Branch 2\n",
    "3. 2024\n",
    "    1.Branch 1\n",
    "    2.Branch 2\n",
    "4. 2025\n",
    "    1.Branch 1\n",
    "    2.Branch 2"
   ]
  },
  {
   "cell_type": "code",
   "execution_count": 23,
   "metadata": {},
   "outputs": [
    {
     "name": "stdout",
     "output_type": "stream",
     "text": [
      "{'DSA': 95, 'COA': 77}\n"
     ]
    }
   ],
   "source": [
    "info = {\n",
    "    2022: {\n",
    "        'Branch 1': {\n",
    "            1: {'Name': 'Dev','Roll Number': 54, 'Marks': {'DSA': 95, 'COA': 77}},\n",
    "        },\n",
    "        'Branch 2': {\n",
    "        }\n",
    "    },\n",
    "    2023: {\n",
    "        'Branch 1': {},\n",
    "        'Branch 2': {},\n",
    "    },\n",
    "    2024: {\n",
    "        'Branch 1': {},\n",
    "        'Branch 2': {},\n",
    "    },\n",
    "    2025: {\n",
    "        'Branch 1': {},\n",
    "        'Branch 2': {},\n",
    "    },\n",
    "}\n",
    "\n",
    "marks = info[2022]['Branch 1'][1]['Marks']\n",
    "print(marks)\n"
   ]
  },
  {
   "cell_type": "markdown",
   "metadata": {},
   "source": [
    "#### Q8. Store the same information using Python classes. We have an overall database which is a list of year objects. Each year contains a list of branches. Each branch contains a list of students. Each student has some properties like name, roll number and has marks in some subjects."
   ]
  },
  {
   "cell_type": "markdown",
   "metadata": {},
   "source": [
    "#### Q9. Using matplotlib plot the following functions on the domain: x = 0.5 to 100.0 in steps of 0.5.\n",
    "$1. y=x \n",
    " 2. y=x^{2}\n",
    " 3. y=\\frac{x^{3}}{100}\n",
    " 4. y=sin(x)\n",
    " 5. y=\\frac{sin(x)}{x}\n",
    " 6. y=log(x)\n",
    " 7. y=e^{x}\n",
    "$"
   ]
  },
  {
   "cell_type": "code",
   "execution_count": 28,
   "metadata": {},
   "outputs": [
    {
     "data": {
      "image/png": "[encoded data removed]",
      "text/plain": [
       "<Figure size 1200x800 with 7 Axes>"
      ]
     },
     "metadata": {},
     "output_type": "display_data"
    }
   ],
   "source": [
    "import matplotlib.pyplot as plt\n",
    "import numpy as np\n",
    "x= np.arange(0.5, 100.5, 0.5)\n",
    "y1 = x\n",
    "y2 = x**2\n",
    "y3 = x**3 / 100\n",
    "y4 = np.sin(x)\n",
    "y5 = np.sin(x) / x\n",
    "y6 = np.log(x)\n",
    "y7 = np.exp(x)\n",
    "\n",
    "plt.figure(figsize=(12, 8))\n",
    "\n",
    "plt.subplot(4, 4, 1)\n",
    "plt.plot(x, y1)\n",
    "plt.title(\"y = x\")\n",
    "\n",
    "plt.subplot(4, 4, 2)\n",
    "plt.plot(x, y2)\n",
    "plt.title(\"y = x^2\")\n",
    "\n",
    "plt.subplot(4, 4, 3)\n",
    "plt.plot(x, y3)\n",
    "plt.title(\"y = x^3/100\")\n",
    "\n",
    "plt.subplot(4, 4, 4)\n",
    "plt.plot(x, y4)\n",
    "plt.title(\"y = sin(x)\")\n",
    "\n",
    "plt.subplot(4, 4, 5)\n",
    "plt.plot(x, y5)\n",
    "plt.title(\"y = sin(x)/x\")\n",
    "\n",
    "plt.subplot(4, 4, 6)\n",
    "plt.plot(x, y6)\n",
    "plt.title(\"y = log(x)\")\n",
    "\n",
    "plt.subplot(4, 4, 7)\n",
    "plt.plot(x, y7)\n",
    "plt.title(\"y = exp(x)\")\n",
    "\n",
    "plt.tight_layout()\n",
    "plt.show()\n"
   ]
  },
  {
   "cell_type": "markdown",
   "metadata": {},
   "source": [
    "#### Q10. Using numpy generate a matrix of size 20X5 containing random numbers drawn uniformly from the range of 1 to 2. Using Pandas create a dataframe out of this matrix. Name the columns of the dataframe as “a”, “b”, “c”, “d”, “e”. Find the column with the highest standard deviation. Find the row with the lowest mean."
   ]
  },
  {
   "cell_type": "code",
   "execution_count": 10,
   "metadata": {},
   "outputs": [
    {
     "name": "stdout",
     "output_type": "stream",
     "text": [
      "DataFrame:\n",
      "           a         b         c         d         e\n",
      "0   1.495952  1.427209  1.895283  1.930914  1.928042\n",
      "1   1.005260  1.450018  1.530956  1.042459  1.249519\n",
      "2   1.271865  1.173584  1.281961  1.498399  1.265809\n",
      "3   1.074557  1.174149  1.018131  1.429714  1.508372\n",
      "4   1.975490  1.715732  1.073933  1.108245  1.908613\n",
      "5   1.200202  1.023487  1.019833  1.244505  1.210442\n",
      "6   1.453096  1.435019  1.891221  1.612180  1.183098\n",
      "7   1.380986  1.873998  1.862721  1.887993  1.372484\n",
      "8   1.233180  1.488590  1.116401  1.702173  1.969358\n",
      "9   1.480200  1.379556  1.573193  1.455023  1.362628\n",
      "10  1.036808  1.284761  1.377360  1.805032  1.158458\n",
      "11  1.216431  1.744770  1.105763  1.161685  1.086916\n",
      "12  1.285384  1.712555  1.848520  1.394099  1.935713\n",
      "13  1.286899  1.323435  1.724240  1.635568  1.073162\n",
      "14  1.392136  1.991808  1.759311  1.420403  1.958936\n",
      "15  1.327105  1.623499  1.520080  1.714763  1.727117\n",
      "16  1.675209  1.113983  1.166945  1.249547  1.492378\n",
      "17  1.973537  1.714740  1.672274  1.494564  1.098159\n",
      "18  1.295805  1.770213  1.539623  1.370093  1.896441\n",
      "19  1.562195  1.567213  1.388349  1.042184  1.430060\n",
      "\n",
      "Column with the highest standard deviation: e\n",
      "Row with the lowest mean: 5\n"
     ]
    }
   ],
   "source": [
    "import numpy as np\n",
    "import pandas as pd\n",
    "matrix = np.random.uniform(1, 2, size=(20, 5))\n",
    "df = pd.DataFrame(matrix, columns=['a', 'b', 'c', 'd', 'e'])\n",
    "highest_std= df.std().idxmax()\n",
    "lowest_mean = df.mean(axis=1).idxmin()\n",
    "\n",
    "print(\"DataFrame:\")\n",
    "print(df)\n",
    "\n",
    "print(\"\\nColumn with the highest standard deviation:\",highest_std)\n",
    "print(\"Row with the lowest mean:\",lowest_mean)\n"
   ]
  },
  {
   "cell_type": "markdown",
   "metadata": {},
   "source": [
    "#### Q11. Add a new column to the dataframe called “f” which is the sum of the columns “a”, “b”, “c”, “d”, “e”. Create another column called “g”. The value in the column “g” should be “LT8” if the value in the column “f” is less than 8 and “GT8” otherwise. Find the number of rows in the dataframe where the value in the column “g” is “LT8”. Find the standard deviation of the column “f” for the rows where the value in the column “g” is “LT8” and “GT8” respectively."
   ]
  },
  {
   "cell_type": "markdown",
   "metadata": {},
   "source": [
    "#### Q12. Write a small piece of code to explain broadcasting in numpy."
   ]
  },
  {
   "cell_type": "code",
   "execution_count": 11,
   "metadata": {},
   "outputs": [
    {
     "name": "stdout",
     "output_type": "stream",
     "text": [
      "[[1 2 3]\n",
      " [4 5 6]]\n",
      "[[11 12 13]\n",
      " [14 15 16]]\n"
     ]
    }
   ],
   "source": [
    "'''NumPy has a robust feature called broadcasting that lets you work with arrays of various shapes. \n",
    "Offering an easy and effective method for carrying out element-wise operations on arrays of various sizes is the aim of broadcasting.'''\n",
    "\n",
    "import numpy as np\n",
    "matrix = np.array([[1, 2, 3], [4, 5, 6]])\n",
    "result = matrix + 10\n",
    "print(matrix)\n",
    "print(result) #After Broadcasting"
   ]
  },
  {
   "cell_type": "markdown",
   "metadata": {},
   "source": [
    "#### Q13. Write a function to compute the argmin of a numpy array. The function should take a numpy array as input and return the index of the minimum element. You can use the np.argmin function to verify your solution."
   ]
  },
  {
   "cell_type": "code",
   "execution_count": 12,
   "metadata": {},
   "outputs": [
    {
     "name": "stdout",
     "output_type": "stream",
     "text": [
      "Index of the minimum element (custom function): (0, 1)\n",
      "Index of the minimum element (np.argmin): (0, 1)\n"
     ]
    }
   ],
   "source": [
    "import numpy as np\n",
    "\n",
    "def our_argmin(arr):\n",
    "    min_v= arr[0, 0]\n",
    "    min_i= (0, 0)\n",
    "    for i in range(arr.shape[0]):\n",
    "        for j in range(arr.shape[1]):\n",
    "            if arr[i, j] < min_v:\n",
    "                min_v= arr[i, j]\n",
    "                min_i= (i, j)\n",
    "    return min_i\n",
    "\n",
    "arr = np.array([[3, 1, 4], [1, 5, 9], [2, 6, 5]])\n",
    "\n",
    "min_index = our_argmin(arr)\n",
    "print(\"Index of the minimum element (custom function):\", min_index)\n",
    "min_index_np = np.unravel_index(np.argmin(arr), arr.shape)\n",
    "print(\"Index of the minimum element (np.argmin):\", min_index_np)\n"
   ]
  }
 ],
 "metadata": {
  "kernelspec": {
   "display_name": "Python 3 (ipykernel)",
   "language": "python",
   "name": "python3"
  },
  "language_info": {
   "codemirror_mode": {
    "name": "ipython",
    "version": 3
   },
   "file_extension": ".py",
   "mimetype": "text/x-python",
   "name": "python",
   "nbconvert_exporter": "python",
   "pygments_lexer": "ipython3",
   "version": "3.10.6"
  }
 },
 "nbformat": 4,
 "nbformat_minor": 5
}
